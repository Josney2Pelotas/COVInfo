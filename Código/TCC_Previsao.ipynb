{
 "cells": [
  {
   "cell_type": "code",
   "execution_count": 1,
   "metadata": {},
   "outputs": [],
   "source": [
    "import pandas as pd\n",
    "from sklearn import tree\n",
    "import matplotlib\n",
    "import matplotlib.pyplot as plt"
   ]
  },
  {
   "cell_type": "code",
   "execution_count": 3,
   "metadata": {},
   "outputs": [
    {
     "name": "stderr",
     "output_type": "stream",
     "text": [
      "C:\\Users\\Vinicius Marques\\AppData\\Local\\Temp\\ipykernel_2344\\1274911223.py:2: DtypeWarning: Columns (15,59,61,62,63,91,93,122,143) have mixed types. Specify dtype option on import or set low_memory=False.\n",
      "  modelo_treino = pd.read_csv('../Docs/dados_covid.csv', delimiter=';')\n",
      "C:\\Users\\Vinicius Marques\\AppData\\Local\\Temp\\ipykernel_2344\\1274911223.py:3: DtypeWarning: Columns (15,59,61,62,63,91,93,122,143) have mixed types. Specify dtype option on import or set low_memory=False.\n",
      "  modelo_teste = pd.read_csv('../Docs/dados_covid.csv', delimiter=';')\n"
     ]
    }
   ],
   "source": [
    "normal_run = True\n",
    "modelo_treino = pd.read_csv('../Docs/dados_covid.csv', delimiter=';')\n",
    "modelo_teste = pd.read_csv('../Docs/dados_covid.csv', delimiter=';')"
   ]
  },
  {
   "cell_type": "code",
   "execution_count": null,
   "metadata": {},
   "outputs": [],
   "source": [
    "modelo_treino.insert(loc=0, column='ID_PACIENTE', value=range(1, len(modelo_treino) + 1))\n",
    "modelo_teste.insert(loc=0, column='ID_PACIENTE', value=range(1, len(modelo_treino) + 1))"
   ]
  },
  {
   "cell_type": "code",
   "execution_count": null,
   "metadata": {},
   "outputs": [],
   "source": [
    "colunas_remover = [\n",
    "    \"DT_NOTIFIC\",\n",
    "    \"SEM_NOT\",\n",
    "    \"DT_SIN_PRI\",\t\n",
    "    \"SEM_PRI\",\t\n",
    "    \"SG_UF_NOT\",\t\n",
    "    \"ID_REGIONA\",\t\n",
    "    \"CO_REGIONA\",\t\n",
    "    \"ID_MUNICIP\",\t\n",
    "    \"CO_MUN_NOT\",\t\n",
    "    \"ID_UNIDADE\",\t\n",
    "    \"CO_UNI_NOT\",\n",
    "    \"DT_NASC\",\n",
    "    \"CS_GESTANT\",\t\n",
    "    \"CS_RACA\",\t\n",
    "    \"CS_ESCOL_N\",\t\n",
    "    \"ID_PAIS\",\t\n",
    "    \"CO_PAIS\",\t\n",
    "    \"SG_UF\",\t\n",
    "    \"ID_RG_RESI\",\t\n",
    "    \"CO_RG_RESI\",\t\n",
    "    \"ID_MN_RESI\",\t\n",
    "    \"CO_MUN_RES\",\n",
    "    \"OUTRO_DES\",\n",
    "    \"MORB_DESC\",\n",
    "    \"VACINA\",\t\n",
    "    \"DT_UT_DOSE\",\t\n",
    "    \"MAE_VAC\",\t\n",
    "    \"DT_VAC_MAE\",\t\n",
    "    \"M_AMAMENTA\",\t\n",
    "    \"DT_DOSEUNI\",\t\n",
    "    \"DT_1_DOSE\",\t\n",
    "    \"DT_2_DOSE\",\t\n",
    "    \"ANTIVIRAL\",\t\n",
    "    \"TP_ANTIVIR\",\t\n",
    "    \"OUT_ANTIV\",\t\n",
    "    \"DT_ANTIVIR\",\t\n",
    "    \"DT_INTERNA\",\t\n",
    "    \"SG_UF_INTE\",\t\n",
    "    \"ID_RG_INTE\",\t\n",
    "    \"CO_RG_INTE\",\t\n",
    "    \"ID_MN_INTE\",\t\n",
    "    \"CO_MU_INTE\",\n",
    "    \"DT_ENTUTI\",\t\n",
    "    \"DT_SAIDUTI\",\n",
    "    \"RAIOX_OUT\",\t\n",
    "    \"DT_RAIOX\",\t\n",
    "    \"AMOSTRA\",\t\n",
    "    \"DT_COLETA\",\t\n",
    "    \"TP_AMOSTRA\",\t\n",
    "    \"OUT_AMOST\",\t\n",
    "    \"PCR_RESUL\",\t\n",
    "    \"DT_PCR\",\t\n",
    "    \"POS_PCRFLU\",\t\n",
    "    \"TP_FLU_PCR\",\t\n",
    "    \"PCR_FLUASU\",\t\n",
    "    \"FLUASU_OUT\",\t\n",
    "    \"PCR_FLUBLI\",\t\n",
    "    \"FLUBLI_OUT\",\t\n",
    "    \"POS_PCROUT\",\t\n",
    "    \"PCR_VSR\",\t\n",
    "    \"PCR_PARA1\",\t\n",
    "    \"PCR_PARA2\",\t\n",
    "    \"PCR_PARA3\",\t\n",
    "    \"PCR_PARA4\",\t\n",
    "    \"PCR_ADENO\",\t\n",
    "    \"PCR_METAP\",\t\n",
    "    \"PCR_BOCA\",\t\n",
    "    \"PCR_RINO\",\t\n",
    "    \"PCR_OUTRO\",\t\n",
    "    \"DS_PCR_OUT\",\n",
    "    \"CLASSI_OUT\",\n",
    "    \"CRITERIO\",\n",
    "    \"DT_EVOLUCA\",\t\n",
    "    \"DT_ENCERRA\",\t\n",
    "    \"DT_DIGITA\",\t\n",
    "    \"HISTO_VGM\",\t\n",
    "    \"PAIS_VGM\",\t\n",
    "    \"CO_PS_VGM\",\t\n",
    "    \"LO_PS_VGM\",\t\n",
    "    \"DT_VGM\",\t\n",
    "    \"DT_RT_VGM\",\t\n",
    "    \"PCR_SARS2\",\t\n",
    "    \"PAC_COCBO\",\t\n",
    "    \"PAC_DSCBO\",\t\n",
    "    \"OUT_ANIM\",\n",
    "    \"TOMO_RES\",\t\n",
    "    \"TOMO_OUT\",\t\n",
    "    \"DT_TOMO\",\t\n",
    "    \"TP_TES_AN\",\t\n",
    "    \"DT_RES_AN\",\t\n",
    "    \"RES_AN\",\t\n",
    "    \"POS_AN_FLU\",\t\n",
    "    \"TP_FLU_AN\",\t\n",
    "    \"POS_AN_OUT\",\t\n",
    "    \"AN_SARS2\",\t\n",
    "    \"AN_VSR\",\t\n",
    "    \"AN_PARA1\",\t\n",
    "    \"AN_PARA2\",\t\n",
    "    \"AN_PARA3\",\t\n",
    "    \"AN_ADENO\",\t\n",
    "    \"AN_OUTRO\",\t\n",
    "    \"DS_AN_OUT\",\t\n",
    "    \"TP_AM_SOR\",\t\n",
    "    \"SOR_OUT\",\t\n",
    "    \"DT_CO_SOR\",\t\n",
    "    \"TP_SOR\",\t\n",
    "    \"OUT_SOR\",\t\n",
    "    \"DT_RES\",\t\n",
    "    \"RES_IGG\",\t\n",
    "    \"RES_IGM\",\t\n",
    "    \"RES_IGA\",\t\n",
    "    \"ESTRANG\",\n",
    "    \"DOSE_1_COV\",\t\n",
    "    \"DOSE_2_COV\",\t\n",
    "    \"DOSE_REF\",\t\n",
    "    \"FAB_COV_1\",\t\n",
    "    \"FAB_COV_2\",\t\n",
    "    \"FAB_COVREF\",\t\n",
    "    \"LOTE_REF\",\t\n",
    "    \"LAB_PR_COV\",\t\n",
    "    \"LOTE_1_COV\",\t\n",
    "    \"LOTE_2_COV\",\t\n",
    "    \"FNT_IN_COV\",\n",
    "    \"COD_IDADE\",\n",
    "    \"SURTO_SG\",\n",
    "    \"OBES_IMC\",\n",
    "    \"RAIOX_RES\"\n",
    "]"
   ]
  },
  {
   "cell_type": "code",
   "execution_count": null,
   "metadata": {},
   "outputs": [],
   "source": [
    "# TESTE 1\n",
    "# colunas_remover.append('VACINA_COV')\n",
    "\n",
    "# TESTE 2\n",
    "# colunas_remover.append('SUPORT_VEN')\n",
    "# colunas_remover.append('VACINA_COV')\n",
    "\n",
    "# TESTE 3\n",
    "# colunas_remover.append('UTI')\n",
    "# colunas_remover.append('SUPORT_VEN')\n",
    "# colunas_remover.append('VACINA_COV')\n"
   ]
  },
  {
   "cell_type": "code",
   "execution_count": null,
   "metadata": {},
   "outputs": [],
   "source": [
    "# SCORE DAS ÁRVORES\n",
    "# 0.8327816606782498 -> TODOS\n",
    "# 0.8315942314318059 -> TESTE 1\n",
    "# 0.8107557710291874 -> TESTE 2\n",
    "# 0.7728749323226854 -> TESTE 3"
   ]
  },
  {
   "cell_type": "code",
   "execution_count": null,
   "metadata": {},
   "outputs": [],
   "source": [
    "modelo_treino.drop(colunas_remover, axis=1, inplace=True)\n",
    "modelo_teste.drop(colunas_remover, axis=1, inplace=True)"
   ]
  },
  {
   "cell_type": "code",
   "execution_count": null,
   "metadata": {},
   "outputs": [],
   "source": [
    "modelo_treino = modelo_treino.query(\"CLASSI_FIN == 5 & TP_IDADE == 3 & CS_SEXO != 'I' & EVOLUCAO in [1, 2]\")\n",
    "modelo_teste = modelo_teste.query(\"CLASSI_FIN == 5 & TP_IDADE == 3 & CS_SEXO != 'I' & EVOLUCAO in [1, 2]\")"
   ]
  },
  {
   "cell_type": "code",
   "execution_count": null,
   "metadata": {},
   "outputs": [],
   "source": [
    "modelo_treino.rename(\n",
    "    columns={\n",
    "        'NU_IDADE_N': 'IDADE',\n",
    "        'CS_ZONA': 'ZONA_GEOGRAFICA',\n",
    "        'CS_SEXO': 'SEXO'\n",
    "    }, \n",
    "    inplace=True\n",
    ")\n",
    "\n",
    "modelo_teste.rename(\n",
    "    columns={\n",
    "        'NU_IDADE_N': 'IDADE',\n",
    "        'CS_ZONA': 'ZONA_GEOGRAFICA',\n",
    "        'CS_SEXO': 'SEXO'\n",
    "    }, \n",
    "    inplace=True\n",
    ")"
   ]
  },
  {
   "cell_type": "code",
   "execution_count": null,
   "metadata": {},
   "outputs": [],
   "source": [
    "modelo_treino.drop([\"TP_IDADE\", \"CLASSI_FIN\"], axis=1, inplace=True)\n",
    "modelo_teste.drop([\"TP_IDADE\", \"CLASSI_FIN\", \"EVOLUCAO\"], axis=1, inplace=True)"
   ]
  },
  {
   "cell_type": "code",
   "execution_count": null,
   "metadata": {},
   "outputs": [],
   "source": [
    "modelo_treino = pd.get_dummies(modelo_treino)\n",
    "modelo_teste = pd.get_dummies(modelo_teste)"
   ]
  },
  {
   "cell_type": "code",
   "execution_count": null,
   "metadata": {},
   "outputs": [],
   "source": [
    "modelo_treino.fillna(value=9, inplace=True)\n",
    "modelo_teste.fillna(value=9, inplace=True)\n",
    "modelo_treino.to_csv('modelo_treino.csv', index=False)"
   ]
  },
  {
   "cell_type": "code",
   "execution_count": null,
   "metadata": {},
   "outputs": [],
   "source": [
    "x_features = modelo_treino.drop(\"EVOLUCAO\", axis=1)\n",
    "y_target = modelo_treino[\"EVOLUCAO\"]"
   ]
  },
  {
   "cell_type": "code",
   "execution_count": null,
   "metadata": {},
   "outputs": [],
   "source": [
    "if normal_run:\n",
    "    arvore_decisao = tree.DecisionTreeClassifier(max_depth=15, random_state=0)\n",
    "    arvore_decisao.fit(x_features, y_target)\n",
    "else:\n",
    "    max_depth_value = 61\n",
    "    result_values = []\n",
    "    \n",
    "    for depth_index in range(max_depth_value):\n",
    "        arvore_decisao = tree.DecisionTreeClassifier(max_depth=depth_index + 1, random_state=0)\n",
    "        arvore_decisao.fit(x_features, y_target)\n",
    "        score = arvore_decisao.score(x_features, y_target)\n",
    "        result_values.append((depth_index, score))\n",
    "        depth_index += 1\n",
    "    \n",
    "    max_depth, score = zip(*result_values)\n",
    "    plt.plot(max_depth, score)\n",
    "    plt.xlabel(\"Max Tree Depth\")\n",
    "    plt.ylabel(\"Tree Score\")\n",
    "    plt.show()"
   ]
  },
  {
   "cell_type": "code",
   "execution_count": null,
   "metadata": {},
   "outputs": [],
   "source": [
    "arvore_decisao.score(x_features, y_target)\n",
    "# tree.plot_tree(arvore_decisao)"
   ]
  },
  {
   "cell_type": "code",
   "execution_count": null,
   "metadata": {},
   "outputs": [],
   "source": [
    "predicao = pd.DataFrame()\n",
    "predicao['ID_PACIENTE'] = modelo_teste['ID_PACIENTE']\n",
    "predicao['EVOLUCAO'] = arvore_decisao.predict(modelo_teste)\n",
    "predicao.to_csv('../Docs/resultado_predicao.csv', index=False)"
   ]
  }
 ],
 "metadata": {
  "kernelspec": {
   "display_name": "Python 3.9.10 64-bit",
   "language": "python",
   "name": "python3"
  },
  "language_info": {
   "codemirror_mode": {
    "name": "ipython",
    "version": 3
   },
   "file_extension": ".py",
   "mimetype": "text/x-python",
   "name": "python",
   "nbconvert_exporter": "python",
   "pygments_lexer": "ipython3",
   "version": "3.9.10"
  },
  "orig_nbformat": 4,
  "vscode": {
   "interpreter": {
    "hash": "df3b56ff379244b17408bc0b93c019fc018b5c5ca4acb60d07ed1dee6bb4ecfa"
   }
  }
 },
 "nbformat": 4,
 "nbformat_minor": 2
}
