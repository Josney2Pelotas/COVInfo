{
 "cells": [
  {
   "cell_type": "code",
   "execution_count": 129,
   "metadata": {},
   "outputs": [],
   "source": [
    "import pandas as pd\n",
    "from sklearn.tree import DecisionTreeClassifier"
   ]
  },
  {
   "cell_type": "code",
   "execution_count": 130,
   "metadata": {},
   "outputs": [
    {
     "name": "stderr",
     "output_type": "stream",
     "text": [
      "C:\\Users\\Vinicius\\AppData\\Local\\Temp\\ipykernel_6072\\3075509180.py:1: DtypeWarning: Columns (15,59,61,62,63,91,93,122,143) have mixed types. Specify dtype option on import or set low_memory=False.\n",
      "  modelo_treino = pd.read_csv('dados_covid.csv', delimiter=';')\n",
      "C:\\Users\\Vinicius\\AppData\\Local\\Temp\\ipykernel_6072\\3075509180.py:2: DtypeWarning: Columns (15,59,61,62,63,91,93,122,143) have mixed types. Specify dtype option on import or set low_memory=False.\n",
      "  modelo_teste = pd.read_csv('dados_covid.csv', delimiter=';')\n"
     ]
    }
   ],
   "source": [
    "modelo_treino = pd.read_csv('dados_covid.csv', delimiter=';')\n",
    "modelo_teste = pd.read_csv('dados_covid.csv', delimiter=';')"
   ]
  },
  {
   "cell_type": "code",
   "execution_count": 131,
   "metadata": {},
   "outputs": [],
   "source": [
    "modelo_treino.insert(loc=0, column='ID_PACIENTE', value=range(1, len(modelo_treino) + 1))\n",
    "modelo_teste.insert(loc=0, column='ID_PACIENTE', value=range(1, len(modelo_treino) + 1))"
   ]
  },
  {
   "cell_type": "code",
   "execution_count": 132,
   "metadata": {},
   "outputs": [],
   "source": [
    "colunas_remover = [\n",
    "    \"DT_NOTIFIC\",\n",
    "    \"SEM_NOT\",\n",
    "    \"DT_SIN_PRI\",\t\n",
    "    \"SEM_PRI\",\t\n",
    "    \"SG_UF_NOT\",\t\n",
    "    \"ID_REGIONA\",\t\n",
    "    \"CO_REGIONA\",\t\n",
    "    \"ID_MUNICIP\",\t\n",
    "    \"CO_MUN_NOT\",\t\n",
    "    \"ID_UNIDADE\",\t\n",
    "    \"CO_UNI_NOT\",\n",
    "    \"DT_NASC\",\n",
    "    \"CS_GESTANT\",\t\n",
    "    \"CS_RACA\",\t\n",
    "    \"CS_ESCOL_N\",\t\n",
    "    \"ID_PAIS\",\t\n",
    "    \"CO_PAIS\",\t\n",
    "    \"SG_UF\",\t\n",
    "    \"ID_RG_RESI\",\t\n",
    "    \"CO_RG_RESI\",\t\n",
    "    \"ID_MN_RESI\",\t\n",
    "    \"CO_MUN_RES\",\n",
    "    \"OUTRO_DES\",\n",
    "    \"MORB_DESC\",\n",
    "    \"VACINA\",\t\n",
    "    \"DT_UT_DOSE\",\t\n",
    "    \"MAE_VAC\",\t\n",
    "    \"DT_VAC_MAE\",\t\n",
    "    \"M_AMAMENTA\",\t\n",
    "    \"DT_DOSEUNI\",\t\n",
    "    \"DT_1_DOSE\",\t\n",
    "    \"DT_2_DOSE\",\t\n",
    "    \"ANTIVIRAL\",\t\n",
    "    \"TP_ANTIVIR\",\t\n",
    "    \"OUT_ANTIV\",\t\n",
    "    \"DT_ANTIVIR\",\t\n",
    "    \"DT_INTERNA\",\t\n",
    "    \"SG_UF_INTE\",\t\n",
    "    \"ID_RG_INTE\",\t\n",
    "    \"CO_RG_INTE\",\t\n",
    "    \"ID_MN_INTE\",\t\n",
    "    \"CO_MU_INTE\",\n",
    "    \"DT_ENTUTI\",\t\n",
    "    \"DT_SAIDUTI\",\n",
    "    \"RAIOX_OUT\",\t\n",
    "    \"DT_RAIOX\",\t\n",
    "    \"AMOSTRA\",\t\n",
    "    \"DT_COLETA\",\t\n",
    "    \"TP_AMOSTRA\",\t\n",
    "    \"OUT_AMOST\",\t\n",
    "    \"PCR_RESUL\",\t\n",
    "    \"DT_PCR\",\t\n",
    "    \"POS_PCRFLU\",\t\n",
    "    \"TP_FLU_PCR\",\t\n",
    "    \"PCR_FLUASU\",\t\n",
    "    \"FLUASU_OUT\",\t\n",
    "    \"PCR_FLUBLI\",\t\n",
    "    \"FLUBLI_OUT\",\t\n",
    "    \"POS_PCROUT\",\t\n",
    "    \"PCR_VSR\",\t\n",
    "    \"PCR_PARA1\",\t\n",
    "    \"PCR_PARA2\",\t\n",
    "    \"PCR_PARA3\",\t\n",
    "    \"PCR_PARA4\",\t\n",
    "    \"PCR_ADENO\",\t\n",
    "    \"PCR_METAP\",\t\n",
    "    \"PCR_BOCA\",\t\n",
    "    \"PCR_RINO\",\t\n",
    "    \"PCR_OUTRO\",\t\n",
    "    \"DS_PCR_OUT\",\n",
    "    \"CLASSI_OUT\",\n",
    "    \"CRITERIO\",\n",
    "    \"DT_EVOLUCA\",\t\n",
    "    \"DT_ENCERRA\",\t\n",
    "    \"DT_DIGITA\",\t\n",
    "    \"HISTO_VGM\",\t\n",
    "    \"PAIS_VGM\",\t\n",
    "    \"CO_PS_VGM\",\t\n",
    "    \"LO_PS_VGM\",\t\n",
    "    \"DT_VGM\",\t\n",
    "    \"DT_RT_VGM\",\t\n",
    "    \"PCR_SARS2\",\t\n",
    "    \"PAC_COCBO\",\t\n",
    "    \"PAC_DSCBO\",\t\n",
    "    \"OUT_ANIM\",\n",
    "    \"TOMO_RES\",\t\n",
    "    \"TOMO_OUT\",\t\n",
    "    \"DT_TOMO\",\t\n",
    "    \"TP_TES_AN\",\t\n",
    "    \"DT_RES_AN\",\t\n",
    "    \"RES_AN\",\t\n",
    "    \"POS_AN_FLU\",\t\n",
    "    \"TP_FLU_AN\",\t\n",
    "    \"POS_AN_OUT\",\t\n",
    "    \"AN_SARS2\",\t\n",
    "    \"AN_VSR\",\t\n",
    "    \"AN_PARA1\",\t\n",
    "    \"AN_PARA2\",\t\n",
    "    \"AN_PARA3\",\t\n",
    "    \"AN_ADENO\",\t\n",
    "    \"AN_OUTRO\",\t\n",
    "    \"DS_AN_OUT\",\t\n",
    "    \"TP_AM_SOR\",\t\n",
    "    \"SOR_OUT\",\t\n",
    "    \"DT_CO_SOR\",\t\n",
    "    \"TP_SOR\",\t\n",
    "    \"OUT_SOR\",\t\n",
    "    \"DT_RES\",\t\n",
    "    \"RES_IGG\",\t\n",
    "    \"RES_IGM\",\t\n",
    "    \"RES_IGA\",\t\n",
    "    \"ESTRANG\",\n",
    "    \"DOSE_1_COV\",\t\n",
    "    \"DOSE_2_COV\",\t\n",
    "    \"DOSE_REF\",\t\n",
    "    \"FAB_COV_1\",\t\n",
    "    \"FAB_COV_2\",\t\n",
    "    \"FAB_COVREF\",\t\n",
    "    \"LOTE_REF\",\t\n",
    "    \"LAB_PR_COV\",\t\n",
    "    \"LOTE_1_COV\",\t\n",
    "    \"LOTE_2_COV\",\t\n",
    "    \"FNT_IN_COV\",\n",
    "    \"COD_IDADE\",\n",
    "    \"SURTO_SG\",\n",
    "    \"OBES_IMC\",\n",
    "    \"RAIOX_RES\"\n",
    "]"
   ]
  },
  {
   "cell_type": "code",
   "execution_count": 133,
   "metadata": {},
   "outputs": [],
   "source": [
    "modelo_treino.drop(colunas_remover, axis=1, inplace=True)\n",
    "modelo_teste.drop(colunas_remover, axis=1, inplace=True)"
   ]
  },
  {
   "cell_type": "code",
   "execution_count": 134,
   "metadata": {},
   "outputs": [],
   "source": [
    "modelo_treino = modelo_treino.query(\"CLASSI_FIN == 5 & TP_IDADE == 3 & CS_SEXO != 'I' & EVOLUCAO in [1, 2]\")\n",
    "modelo_teste = modelo_teste.query(\"CLASSI_FIN == 5 & TP_IDADE == 3 & CS_SEXO != 'I' & EVOLUCAO in [1, 2]\")"
   ]
  },
  {
   "cell_type": "code",
   "execution_count": 135,
   "metadata": {},
   "outputs": [],
   "source": [
    "modelo_treino.rename(\n",
    "    columns={\n",
    "        'NU_IDADE_N': 'IDADE',\n",
    "        'CS_ZONA': 'ZONA_GEOGRAFICA',\n",
    "        'CS_SEXO': 'SEXO'\n",
    "    }, \n",
    "    inplace=True\n",
    ")\n",
    "\n",
    "modelo_teste.rename(\n",
    "    columns={\n",
    "        'NU_IDADE_N': 'IDADE',\n",
    "        'CS_ZONA': 'ZONA_GEOGRAFICA',\n",
    "        'CS_SEXO': 'SEXO'\n",
    "    }, \n",
    "    inplace=True\n",
    ")"
   ]
  },
  {
   "cell_type": "code",
   "execution_count": 136,
   "metadata": {},
   "outputs": [],
   "source": [
    "modelo_treino.drop([\"TP_IDADE\", \"CLASSI_FIN\"], axis=1, inplace=True)\n",
    "modelo_teste.drop([\"TP_IDADE\", \"CLASSI_FIN\", \"EVOLUCAO\"], axis=1, inplace=True)"
   ]
  },
  {
   "cell_type": "code",
   "execution_count": 137,
   "metadata": {},
   "outputs": [],
   "source": [
    "modelo_treino = pd.get_dummies(modelo_treino)\n",
    "modelo_teste = pd.get_dummies(modelo_teste)"
   ]
  },
  {
   "cell_type": "code",
   "execution_count": 138,
   "metadata": {},
   "outputs": [],
   "source": [
    "modelo_treino.fillna(value=9, inplace=True)\n",
    "modelo_teste.fillna(value=9, inplace=True)\n",
    "modelo_treino.to_csv('modelo_treino.csv', index=False)"
   ]
  },
  {
   "cell_type": "code",
   "execution_count": 139,
   "metadata": {},
   "outputs": [],
   "source": [
    "x_features = modelo_treino.drop(\"EVOLUCAO\", axis=1)\n",
    "y_target = modelo_treino[\"EVOLUCAO\"]"
   ]
  },
  {
   "cell_type": "code",
   "execution_count": 146,
   "metadata": {},
   "outputs": [
    {
     "data": {
      "text/html": [
       "<style>#sk-container-id-9 {color: black;background-color: white;}#sk-container-id-9 pre{padding: 0;}#sk-container-id-9 div.sk-toggleable {background-color: white;}#sk-container-id-9 label.sk-toggleable__label {cursor: pointer;display: block;width: 100%;margin-bottom: 0;padding: 0.3em;box-sizing: border-box;text-align: center;}#sk-container-id-9 label.sk-toggleable__label-arrow:before {content: \"▸\";float: left;margin-right: 0.25em;color: #696969;}#sk-container-id-9 label.sk-toggleable__label-arrow:hover:before {color: black;}#sk-container-id-9 div.sk-estimator:hover label.sk-toggleable__label-arrow:before {color: black;}#sk-container-id-9 div.sk-toggleable__content {max-height: 0;max-width: 0;overflow: hidden;text-align: left;background-color: #f0f8ff;}#sk-container-id-9 div.sk-toggleable__content pre {margin: 0.2em;color: black;border-radius: 0.25em;background-color: #f0f8ff;}#sk-container-id-9 input.sk-toggleable__control:checked~div.sk-toggleable__content {max-height: 200px;max-width: 100%;overflow: auto;}#sk-container-id-9 input.sk-toggleable__control:checked~label.sk-toggleable__label-arrow:before {content: \"▾\";}#sk-container-id-9 div.sk-estimator input.sk-toggleable__control:checked~label.sk-toggleable__label {background-color: #d4ebff;}#sk-container-id-9 div.sk-label input.sk-toggleable__control:checked~label.sk-toggleable__label {background-color: #d4ebff;}#sk-container-id-9 input.sk-hidden--visually {border: 0;clip: rect(1px 1px 1px 1px);clip: rect(1px, 1px, 1px, 1px);height: 1px;margin: -1px;overflow: hidden;padding: 0;position: absolute;width: 1px;}#sk-container-id-9 div.sk-estimator {font-family: monospace;background-color: #f0f8ff;border: 1px dotted black;border-radius: 0.25em;box-sizing: border-box;margin-bottom: 0.5em;}#sk-container-id-9 div.sk-estimator:hover {background-color: #d4ebff;}#sk-container-id-9 div.sk-parallel-item::after {content: \"\";width: 100%;border-bottom: 1px solid gray;flex-grow: 1;}#sk-container-id-9 div.sk-label:hover label.sk-toggleable__label {background-color: #d4ebff;}#sk-container-id-9 div.sk-serial::before {content: \"\";position: absolute;border-left: 1px solid gray;box-sizing: border-box;top: 0;bottom: 0;left: 50%;z-index: 0;}#sk-container-id-9 div.sk-serial {display: flex;flex-direction: column;align-items: center;background-color: white;padding-right: 0.2em;padding-left: 0.2em;position: relative;}#sk-container-id-9 div.sk-item {position: relative;z-index: 1;}#sk-container-id-9 div.sk-parallel {display: flex;align-items: stretch;justify-content: center;background-color: white;position: relative;}#sk-container-id-9 div.sk-item::before, #sk-container-id-9 div.sk-parallel-item::before {content: \"\";position: absolute;border-left: 1px solid gray;box-sizing: border-box;top: 0;bottom: 0;left: 50%;z-index: -1;}#sk-container-id-9 div.sk-parallel-item {display: flex;flex-direction: column;z-index: 1;position: relative;background-color: white;}#sk-container-id-9 div.sk-parallel-item:first-child::after {align-self: flex-end;width: 50%;}#sk-container-id-9 div.sk-parallel-item:last-child::after {align-self: flex-start;width: 50%;}#sk-container-id-9 div.sk-parallel-item:only-child::after {width: 0;}#sk-container-id-9 div.sk-dashed-wrapped {border: 1px dashed gray;margin: 0 0.4em 0.5em 0.4em;box-sizing: border-box;padding-bottom: 0.4em;background-color: white;}#sk-container-id-9 div.sk-label label {font-family: monospace;font-weight: bold;display: inline-block;line-height: 1.2em;}#sk-container-id-9 div.sk-label-container {text-align: center;}#sk-container-id-9 div.sk-container {/* jupyter's `normalize.less` sets `[hidden] { display: none; }` but bootstrap.min.css set `[hidden] { display: none !important; }` so we also need the `!important` here to be able to override the default hidden behavior on the sphinx rendered scikit-learn.org. See: https://github.com/scikit-learn/scikit-learn/issues/21755 */display: inline-block !important;position: relative;}#sk-container-id-9 div.sk-text-repr-fallback {display: none;}</style><div id=\"sk-container-id-9\" class=\"sk-top-container\"><div class=\"sk-text-repr-fallback\"><pre>DecisionTreeClassifier(max_depth=50, random_state=0)</pre><b>In a Jupyter environment, please rerun this cell to show the HTML representation or trust the notebook. <br />On GitHub, the HTML representation is unable to render, please try loading this page with nbviewer.org.</b></div><div class=\"sk-container\" hidden><div class=\"sk-item\"><div class=\"sk-estimator sk-toggleable\"><input class=\"sk-toggleable__control sk-hidden--visually\" id=\"sk-estimator-id-9\" type=\"checkbox\" checked><label for=\"sk-estimator-id-9\" class=\"sk-toggleable__label sk-toggleable__label-arrow\">DecisionTreeClassifier</label><div class=\"sk-toggleable__content\"><pre>DecisionTreeClassifier(max_depth=50, random_state=0)</pre></div></div></div></div></div>"
      ],
      "text/plain": [
       "DecisionTreeClassifier(max_depth=50, random_state=0)"
      ]
     },
     "execution_count": 146,
     "metadata": {},
     "output_type": "execute_result"
    }
   ],
   "source": [
    "arvore_decisao = DecisionTreeClassifier(max_depth=50, random_state=0)\n",
    "arvore_decisao.fit(x_features, y_target)"
   ]
  },
  {
   "cell_type": "code",
   "execution_count": 147,
   "metadata": {},
   "outputs": [
    {
     "data": {
      "text/plain": [
       "1.0"
      ]
     },
     "execution_count": 147,
     "metadata": {},
     "output_type": "execute_result"
    }
   ],
   "source": [
    "arvore_decisao.score(x_features, y_target)"
   ]
  },
  {
   "cell_type": "code",
   "execution_count": 148,
   "metadata": {},
   "outputs": [],
   "source": [
    "predicao = pd.DataFrame()\n",
    "predicao['ID_PACIENTE'] = modelo_teste['ID_PACIENTE']\n",
    "predicao['EVOLUCAO'] = arvore_decisao.predict(modelo_teste)\n",
    "predicao.to_csv('resultado_predicao.csv', index=False)"
   ]
  }
 ],
 "metadata": {
  "kernelspec": {
   "display_name": "Python 3.9.9 64-bit",
   "language": "python",
   "name": "python3"
  },
  "language_info": {
   "codemirror_mode": {
    "name": "ipython",
    "version": 3
   },
   "file_extension": ".py",
   "mimetype": "text/x-python",
   "name": "python",
   "nbconvert_exporter": "python",
   "pygments_lexer": "ipython3",
   "version": "3.9.9"
  },
  "orig_nbformat": 4,
  "vscode": {
   "interpreter": {
    "hash": "a8e73bb7d213b33d81f619bf6b6d300f88b75612ae1dbe277346efda2afb0abd"
   }
  }
 },
 "nbformat": 4,
 "nbformat_minor": 2
}
